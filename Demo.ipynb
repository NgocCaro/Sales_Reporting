{
 "cells": [
  {
   "cell_type": "markdown",
   "metadata": {},
   "source": [
    "EDA structure\n",
    "1. Set up environment and Load data\n",
    "2. CLean and Preprocess data\n",
    "3. Report & Conduct Analysis\n",
    "\n",
    "Phân biệt Reporting && Analysis\n",
    "- Reporting trả lời cho câu hỏi \"What happened?\"\n",
    "- Analysis trả lời cho câu hỏi \"Why it happened?\""
   ]
  },
  {
   "cell_type": "markdown",
   "metadata": {},
   "source": [
    "# 1. Set up environment and Load data"
   ]
  },
  {
   "cell_type": "code",
   "execution_count": 1,
   "metadata": {},
   "outputs": [],
   "source": [
    "import pandas as pd\n",
    "import os # giúp tương tác với máy tính\n",
    "import matplotlib.pyplot as plt"
   ]
  },
  {
   "cell_type": "markdown",
   "metadata": {},
   "source": [
    "# 2. Clean and Preprocess data"
   ]
  },
  {
   "cell_type": "markdown",
   "metadata": {},
   "source": [
    "#### Test read_csv for path"
   ]
  },
  {
   "cell_type": "code",
   "execution_count": 2,
   "metadata": {},
   "outputs": [
    {
     "data": {
      "text/html": [
       "<div>\n",
       "<style scoped>\n",
       "    .dataframe tbody tr th:only-of-type {\n",
       "        vertical-align: middle;\n",
       "    }\n",
       "\n",
       "    .dataframe tbody tr th {\n",
       "        vertical-align: top;\n",
       "    }\n",
       "\n",
       "    .dataframe thead th {\n",
       "        text-align: right;\n",
       "    }\n",
       "</style>\n",
       "<table border=\"1\" class=\"dataframe\">\n",
       "  <thead>\n",
       "    <tr style=\"text-align: right;\">\n",
       "      <th></th>\n",
       "      <th>Order ID</th>\n",
       "      <th>Product</th>\n",
       "      <th>Quantity Ordered</th>\n",
       "      <th>Price Each</th>\n",
       "      <th>Order Date</th>\n",
       "      <th>Purchase Address</th>\n",
       "    </tr>\n",
       "  </thead>\n",
       "  <tbody>\n",
       "    <tr>\n",
       "      <th>0</th>\n",
       "      <td>141234</td>\n",
       "      <td>iPhone</td>\n",
       "      <td>1</td>\n",
       "      <td>700</td>\n",
       "      <td>01/22/19 21:25</td>\n",
       "      <td>944 Walnut St, Boston, MA 02215</td>\n",
       "    </tr>\n",
       "    <tr>\n",
       "      <th>1</th>\n",
       "      <td>141235</td>\n",
       "      <td>Lightning Charging Cable</td>\n",
       "      <td>1</td>\n",
       "      <td>14.95</td>\n",
       "      <td>01/28/19 14:15</td>\n",
       "      <td>185 Maple St, Portland, OR 97035</td>\n",
       "    </tr>\n",
       "    <tr>\n",
       "      <th>2</th>\n",
       "      <td>141236</td>\n",
       "      <td>Wired Headphones</td>\n",
       "      <td>2</td>\n",
       "      <td>11.99</td>\n",
       "      <td>01/17/19 13:33</td>\n",
       "      <td>538 Adams St, San Francisco, CA 94016</td>\n",
       "    </tr>\n",
       "    <tr>\n",
       "      <th>3</th>\n",
       "      <td>141237</td>\n",
       "      <td>27in FHD Monitor</td>\n",
       "      <td>1</td>\n",
       "      <td>149.99</td>\n",
       "      <td>01/05/19 20:33</td>\n",
       "      <td>738 10th St, Los Angeles, CA 90001</td>\n",
       "    </tr>\n",
       "    <tr>\n",
       "      <th>4</th>\n",
       "      <td>141238</td>\n",
       "      <td>Wired Headphones</td>\n",
       "      <td>1</td>\n",
       "      <td>11.99</td>\n",
       "      <td>01/25/19 11:59</td>\n",
       "      <td>387 10th St, Austin, TX 73301</td>\n",
       "    </tr>\n",
       "  </tbody>\n",
       "</table>\n",
       "</div>"
      ],
      "text/plain": [
       "  Order ID                   Product Quantity Ordered Price Each  \\\n",
       "0   141234                    iPhone                1        700   \n",
       "1   141235  Lightning Charging Cable                1      14.95   \n",
       "2   141236          Wired Headphones                2      11.99   \n",
       "3   141237          27in FHD Monitor                1     149.99   \n",
       "4   141238          Wired Headphones                1      11.99   \n",
       "\n",
       "       Order Date                       Purchase Address  \n",
       "0  01/22/19 21:25        944 Walnut St, Boston, MA 02215  \n",
       "1  01/28/19 14:15       185 Maple St, Portland, OR 97035  \n",
       "2  01/17/19 13:33  538 Adams St, San Francisco, CA 94016  \n",
       "3  01/05/19 20:33     738 10th St, Los Angeles, CA 90001  \n",
       "4  01/25/19 11:59          387 10th St, Austin, TX 73301  "
      ]
     },
     "execution_count": 2,
     "metadata": {},
     "output_type": "execute_result"
    }
   ],
   "source": [
    "path = r'C:\\Users\\Admin\\Documents\\Sales Reporting'\n",
    "df = pd.read_csv(path+'\\sales2019_1.csv')\n",
    "df.head()"
   ]
  },
  {
   "cell_type": "markdown",
   "metadata": {},
   "source": [
    "### 2.1 Merge 12-month data"
   ]
  },
  {
   "cell_type": "code",
   "execution_count": 3,
   "metadata": {},
   "outputs": [
    {
     "data": {
      "text/plain": [
       "['sales2019_1.csv',\n",
       " 'sales2019_10.csv',\n",
       " 'sales2019_11.csv',\n",
       " 'sales2019_12.csv',\n",
       " 'sales2019_2.csv',\n",
       " 'sales2019_3.csv',\n",
       " 'sales2019_4.csv',\n",
       " 'sales2019_5.csv',\n",
       " 'sales2019_6.csv',\n",
       " 'sales2019_7.csv',\n",
       " 'sales2019_8.csv',\n",
       " 'sales2019_9.csv']"
      ]
     },
     "execution_count": 3,
     "metadata": {},
     "output_type": "execute_result"
    }
   ],
   "source": [
    "os.listdir(path) # hiển thị các tập tin có trong đường dẫn đó"
   ]
  },
  {
   "cell_type": "code",
   "execution_count": 4,
   "metadata": {},
   "outputs": [
    {
     "name": "stdout",
     "output_type": "stream",
     "text": [
      "['C:\\\\Users\\\\Admin\\\\Documents\\\\Sales Reporting\\\\sales2019_1.csv', 'C:\\\\Users\\\\Admin\\\\Documents\\\\Sales Reporting\\\\sales2019_10.csv', 'C:\\\\Users\\\\Admin\\\\Documents\\\\Sales Reporting\\\\sales2019_11.csv', 'C:\\\\Users\\\\Admin\\\\Documents\\\\Sales Reporting\\\\sales2019_12.csv', 'C:\\\\Users\\\\Admin\\\\Documents\\\\Sales Reporting\\\\sales2019_2.csv', 'C:\\\\Users\\\\Admin\\\\Documents\\\\Sales Reporting\\\\sales2019_3.csv', 'C:\\\\Users\\\\Admin\\\\Documents\\\\Sales Reporting\\\\sales2019_4.csv', 'C:\\\\Users\\\\Admin\\\\Documents\\\\Sales Reporting\\\\sales2019_5.csv', 'C:\\\\Users\\\\Admin\\\\Documents\\\\Sales Reporting\\\\sales2019_6.csv', 'C:\\\\Users\\\\Admin\\\\Documents\\\\Sales Reporting\\\\sales2019_7.csv', 'C:\\\\Users\\\\Admin\\\\Documents\\\\Sales Reporting\\\\sales2019_8.csv', 'C:\\\\Users\\\\Admin\\\\Documents\\\\Sales Reporting\\\\sales2019_9.csv']\n"
     ]
    }
   ],
   "source": [
    "# Muốn lấy ra đường dẫn tương ứng với các tập tin\n",
    "file_paths = [] # Tạo ra 1 list để lưu các đường dẫn của các file đó\n",
    "for file in os.listdir(path):\n",
    "    if file.endswith('.csv'): # trường hợp này chỉ lấy file có đuôi .csv\n",
    "        file_path = path + '\\\\' + file\n",
    "        file_paths.append(file_path)\n",
    "print(file_paths)"
   ]
  },
  {
   "cell_type": "code",
   "execution_count": 5,
   "metadata": {},
   "outputs": [
    {
     "data": {
      "text/html": [
       "<div>\n",
       "<style scoped>\n",
       "    .dataframe tbody tr th:only-of-type {\n",
       "        vertical-align: middle;\n",
       "    }\n",
       "\n",
       "    .dataframe tbody tr th {\n",
       "        vertical-align: top;\n",
       "    }\n",
       "\n",
       "    .dataframe thead th {\n",
       "        text-align: right;\n",
       "    }\n",
       "</style>\n",
       "<table border=\"1\" class=\"dataframe\">\n",
       "  <thead>\n",
       "    <tr style=\"text-align: right;\">\n",
       "      <th></th>\n",
       "      <th>Order ID</th>\n",
       "      <th>Product</th>\n",
       "      <th>Quantity Ordered</th>\n",
       "      <th>Price Each</th>\n",
       "      <th>Order Date</th>\n",
       "      <th>Purchase Address</th>\n",
       "    </tr>\n",
       "  </thead>\n",
       "  <tbody>\n",
       "    <tr>\n",
       "      <th>0</th>\n",
       "      <td>141234</td>\n",
       "      <td>iPhone</td>\n",
       "      <td>1</td>\n",
       "      <td>700</td>\n",
       "      <td>01/22/19 21:25</td>\n",
       "      <td>944 Walnut St, Boston, MA 02215</td>\n",
       "    </tr>\n",
       "    <tr>\n",
       "      <th>1</th>\n",
       "      <td>141235</td>\n",
       "      <td>Lightning Charging Cable</td>\n",
       "      <td>1</td>\n",
       "      <td>14.95</td>\n",
       "      <td>01/28/19 14:15</td>\n",
       "      <td>185 Maple St, Portland, OR 97035</td>\n",
       "    </tr>\n",
       "    <tr>\n",
       "      <th>2</th>\n",
       "      <td>141236</td>\n",
       "      <td>Wired Headphones</td>\n",
       "      <td>2</td>\n",
       "      <td>11.99</td>\n",
       "      <td>01/17/19 13:33</td>\n",
       "      <td>538 Adams St, San Francisco, CA 94016</td>\n",
       "    </tr>\n",
       "    <tr>\n",
       "      <th>3</th>\n",
       "      <td>141237</td>\n",
       "      <td>27in FHD Monitor</td>\n",
       "      <td>1</td>\n",
       "      <td>149.99</td>\n",
       "      <td>01/05/19 20:33</td>\n",
       "      <td>738 10th St, Los Angeles, CA 90001</td>\n",
       "    </tr>\n",
       "    <tr>\n",
       "      <th>4</th>\n",
       "      <td>141238</td>\n",
       "      <td>Wired Headphones</td>\n",
       "      <td>1</td>\n",
       "      <td>11.99</td>\n",
       "      <td>01/25/19 11:59</td>\n",
       "      <td>387 10th St, Austin, TX 73301</td>\n",
       "    </tr>\n",
       "  </tbody>\n",
       "</table>\n",
       "</div>"
      ],
      "text/plain": [
       "  Order ID                   Product Quantity Ordered Price Each  \\\n",
       "0   141234                    iPhone                1        700   \n",
       "1   141235  Lightning Charging Cable                1      14.95   \n",
       "2   141236          Wired Headphones                2      11.99   \n",
       "3   141237          27in FHD Monitor                1     149.99   \n",
       "4   141238          Wired Headphones                1      11.99   \n",
       "\n",
       "       Order Date                       Purchase Address  \n",
       "0  01/22/19 21:25        944 Walnut St, Boston, MA 02215  \n",
       "1  01/28/19 14:15       185 Maple St, Portland, OR 97035  \n",
       "2  01/17/19 13:33  538 Adams St, San Francisco, CA 94016  \n",
       "3  01/05/19 20:33     738 10th St, Los Angeles, CA 90001  \n",
       "4  01/25/19 11:59          387 10th St, Austin, TX 73301  "
      ]
     },
     "execution_count": 5,
     "metadata": {},
     "output_type": "execute_result"
    }
   ],
   "source": [
    "# Thử in ra dataframe của từng tập tin đó\n",
    "file_paths = []\n",
    "for file in os.listdir(path):\n",
    "    if file.endswith('.csv'): \n",
    "        file_path = path + '\\\\' + file\n",
    "        file_paths.append(file_path)\n",
    "df = pd.read_csv(file_paths[0])\n",
    "df.head()\n",
    "# OK lúc này đã thấy là in ra được df của từng tập tin nếu ta chạy lần lượt từ 0\n",
    "# Bây giờ tiến hành merge 12 tháng đó thành 1 tập tin thì sẽ gọn và dễ dàng phân tích hơn."
   ]
  },
  {
   "cell_type": "code",
   "execution_count": 6,
   "metadata": {},
   "outputs": [],
   "source": [
    "# Merge 12 tệp tin sử dụng phương thức Concat()\n",
    "frames = [] # tạo 1 list để lưu từng dataframe đó\n",
    "for file in os.listdir(path):\n",
    "    if file.endswith(\".csv\"):\n",
    "        file_path = path + '\\\\' + file\n",
    "        df_file = pd.read_csv(file_path)\n",
    "        frames.append(df_file)\n",
    "        result = pd.concat(frames)\n",
    "\n",
    "df = result\n",
    "df.to_csv(\"annualSales2019.csv\", index=False) # lưu thành 1 file csv\n",
    "# index = False giúp loại đi cột thứ tự đầu tiên"
   ]
  },
  {
   "cell_type": "code",
   "execution_count": 7,
   "metadata": {},
   "outputs": [
    {
     "name": "stdout",
     "output_type": "stream",
     "text": [
      "object\n"
     ]
    }
   ],
   "source": [
    "print(df['Order Date'].dtypes)"
   ]
  },
  {
   "cell_type": "markdown",
   "metadata": {},
   "source": [
    "### 2.2 Add \"Month\" column"
   ]
  },
  {
   "cell_type": "code",
   "execution_count": 8,
   "metadata": {},
   "outputs": [
    {
     "name": "stdout",
     "output_type": "stream",
     "text": [
      "{'02', '11', '10', '03', '05', '06', '07', '09', '04', '12', '01', '08'}\n"
     ]
    },
    {
     "data": {
      "text/html": [
       "<div>\n",
       "<style scoped>\n",
       "    .dataframe tbody tr th:only-of-type {\n",
       "        vertical-align: middle;\n",
       "    }\n",
       "\n",
       "    .dataframe tbody tr th {\n",
       "        vertical-align: top;\n",
       "    }\n",
       "\n",
       "    .dataframe thead th {\n",
       "        text-align: right;\n",
       "    }\n",
       "</style>\n",
       "<table border=\"1\" class=\"dataframe\">\n",
       "  <thead>\n",
       "    <tr style=\"text-align: right;\">\n",
       "      <th></th>\n",
       "      <th>Order ID</th>\n",
       "      <th>Product</th>\n",
       "      <th>Quantity Ordered</th>\n",
       "      <th>Price Each</th>\n",
       "      <th>Order Date</th>\n",
       "      <th>Purchase Address</th>\n",
       "      <th>Month</th>\n",
       "    </tr>\n",
       "  </thead>\n",
       "  <tbody>\n",
       "    <tr>\n",
       "      <th>0</th>\n",
       "      <td>141234</td>\n",
       "      <td>iPhone</td>\n",
       "      <td>1</td>\n",
       "      <td>700</td>\n",
       "      <td>01/22/19 21:25</td>\n",
       "      <td>944 Walnut St, Boston, MA 02215</td>\n",
       "      <td>01</td>\n",
       "    </tr>\n",
       "    <tr>\n",
       "      <th>1</th>\n",
       "      <td>141235</td>\n",
       "      <td>Lightning Charging Cable</td>\n",
       "      <td>1</td>\n",
       "      <td>14.95</td>\n",
       "      <td>01/28/19 14:15</td>\n",
       "      <td>185 Maple St, Portland, OR 97035</td>\n",
       "      <td>01</td>\n",
       "    </tr>\n",
       "    <tr>\n",
       "      <th>2</th>\n",
       "      <td>141236</td>\n",
       "      <td>Wired Headphones</td>\n",
       "      <td>2</td>\n",
       "      <td>11.99</td>\n",
       "      <td>01/17/19 13:33</td>\n",
       "      <td>538 Adams St, San Francisco, CA 94016</td>\n",
       "      <td>01</td>\n",
       "    </tr>\n",
       "    <tr>\n",
       "      <th>3</th>\n",
       "      <td>141237</td>\n",
       "      <td>27in FHD Monitor</td>\n",
       "      <td>1</td>\n",
       "      <td>149.99</td>\n",
       "      <td>01/05/19 20:33</td>\n",
       "      <td>738 10th St, Los Angeles, CA 90001</td>\n",
       "      <td>01</td>\n",
       "    </tr>\n",
       "    <tr>\n",
       "      <th>4</th>\n",
       "      <td>141238</td>\n",
       "      <td>Wired Headphones</td>\n",
       "      <td>1</td>\n",
       "      <td>11.99</td>\n",
       "      <td>01/25/19 11:59</td>\n",
       "      <td>387 10th St, Austin, TX 73301</td>\n",
       "      <td>01</td>\n",
       "    </tr>\n",
       "  </tbody>\n",
       "</table>\n",
       "</div>"
      ],
      "text/plain": [
       "  Order ID                   Product Quantity Ordered Price Each  \\\n",
       "0   141234                    iPhone                1        700   \n",
       "1   141235  Lightning Charging Cable                1      14.95   \n",
       "2   141236          Wired Headphones                2      11.99   \n",
       "3   141237          27in FHD Monitor                1     149.99   \n",
       "4   141238          Wired Headphones                1      11.99   \n",
       "\n",
       "       Order Date                       Purchase Address Month  \n",
       "0  01/22/19 21:25        944 Walnut St, Boston, MA 02215    01  \n",
       "1  01/28/19 14:15       185 Maple St, Portland, OR 97035    01  \n",
       "2  01/17/19 13:33  538 Adams St, San Francisco, CA 94016    01  \n",
       "3  01/05/19 20:33     738 10th St, Los Angeles, CA 90001    01  \n",
       "4  01/25/19 11:59          387 10th St, Austin, TX 73301    01  "
      ]
     },
     "execution_count": 8,
     "metadata": {},
     "output_type": "execute_result"
    }
   ],
   "source": [
    "df[\"Month\"] = df['Order Date'].str[0:2]# start index= 0 và stop index= 2 tức là tới 2 thì dừng\n",
    "df = df.dropna(how=\"all\")# loại bỏ value = nan\n",
    "df = df[df['Month'] != \"Or\"]# loại bỏ value = or\n",
    "print(set(df['Month']))\n",
    "df.head()"
   ]
  },
  {
   "cell_type": "markdown",
   "metadata": {},
   "source": [
    "### 2.3 Add \"City\" column"
   ]
  },
  {
   "cell_type": "code",
   "execution_count": 9,
   "metadata": {},
   "outputs": [
    {
     "name": "stdout",
     "output_type": "stream",
     "text": [
      "{' Austin', ' Boston', ' Seattle', ' Atlanta', ' Los Angeles', ' Portland', ' New York City', ' Dallas', ' San Francisco'}\n"
     ]
    },
    {
     "data": {
      "text/html": [
       "<div>\n",
       "<style scoped>\n",
       "    .dataframe tbody tr th:only-of-type {\n",
       "        vertical-align: middle;\n",
       "    }\n",
       "\n",
       "    .dataframe tbody tr th {\n",
       "        vertical-align: top;\n",
       "    }\n",
       "\n",
       "    .dataframe thead th {\n",
       "        text-align: right;\n",
       "    }\n",
       "</style>\n",
       "<table border=\"1\" class=\"dataframe\">\n",
       "  <thead>\n",
       "    <tr style=\"text-align: right;\">\n",
       "      <th></th>\n",
       "      <th>Order ID</th>\n",
       "      <th>Product</th>\n",
       "      <th>Quantity Ordered</th>\n",
       "      <th>Price Each</th>\n",
       "      <th>Order Date</th>\n",
       "      <th>Purchase Address</th>\n",
       "      <th>Month</th>\n",
       "      <th>City</th>\n",
       "    </tr>\n",
       "  </thead>\n",
       "  <tbody>\n",
       "    <tr>\n",
       "      <th>0</th>\n",
       "      <td>141234</td>\n",
       "      <td>iPhone</td>\n",
       "      <td>1</td>\n",
       "      <td>700</td>\n",
       "      <td>01/22/19 21:25</td>\n",
       "      <td>944 Walnut St, Boston, MA 02215</td>\n",
       "      <td>01</td>\n",
       "      <td>Boston</td>\n",
       "    </tr>\n",
       "    <tr>\n",
       "      <th>1</th>\n",
       "      <td>141235</td>\n",
       "      <td>Lightning Charging Cable</td>\n",
       "      <td>1</td>\n",
       "      <td>14.95</td>\n",
       "      <td>01/28/19 14:15</td>\n",
       "      <td>185 Maple St, Portland, OR 97035</td>\n",
       "      <td>01</td>\n",
       "      <td>Portland</td>\n",
       "    </tr>\n",
       "    <tr>\n",
       "      <th>2</th>\n",
       "      <td>141236</td>\n",
       "      <td>Wired Headphones</td>\n",
       "      <td>2</td>\n",
       "      <td>11.99</td>\n",
       "      <td>01/17/19 13:33</td>\n",
       "      <td>538 Adams St, San Francisco, CA 94016</td>\n",
       "      <td>01</td>\n",
       "      <td>San Francisco</td>\n",
       "    </tr>\n",
       "    <tr>\n",
       "      <th>3</th>\n",
       "      <td>141237</td>\n",
       "      <td>27in FHD Monitor</td>\n",
       "      <td>1</td>\n",
       "      <td>149.99</td>\n",
       "      <td>01/05/19 20:33</td>\n",
       "      <td>738 10th St, Los Angeles, CA 90001</td>\n",
       "      <td>01</td>\n",
       "      <td>Los Angeles</td>\n",
       "    </tr>\n",
       "    <tr>\n",
       "      <th>4</th>\n",
       "      <td>141238</td>\n",
       "      <td>Wired Headphones</td>\n",
       "      <td>1</td>\n",
       "      <td>11.99</td>\n",
       "      <td>01/25/19 11:59</td>\n",
       "      <td>387 10th St, Austin, TX 73301</td>\n",
       "      <td>01</td>\n",
       "      <td>Austin</td>\n",
       "    </tr>\n",
       "  </tbody>\n",
       "</table>\n",
       "</div>"
      ],
      "text/plain": [
       "  Order ID                   Product Quantity Ordered Price Each  \\\n",
       "0   141234                    iPhone                1        700   \n",
       "1   141235  Lightning Charging Cable                1      14.95   \n",
       "2   141236          Wired Headphones                2      11.99   \n",
       "3   141237          27in FHD Monitor                1     149.99   \n",
       "4   141238          Wired Headphones                1      11.99   \n",
       "\n",
       "       Order Date                       Purchase Address Month            City  \n",
       "0  01/22/19 21:25        944 Walnut St, Boston, MA 02215    01          Boston  \n",
       "1  01/28/19 14:15       185 Maple St, Portland, OR 97035    01        Portland  \n",
       "2  01/17/19 13:33  538 Adams St, San Francisco, CA 94016    01   San Francisco  \n",
       "3  01/05/19 20:33     738 10th St, Los Angeles, CA 90001    01     Los Angeles  \n",
       "4  01/25/19 11:59          387 10th St, Austin, TX 73301    01          Austin  "
      ]
     },
     "execution_count": 9,
     "metadata": {},
     "output_type": "execute_result"
    }
   ],
   "source": [
    "city = lambda x : x.split(',')[1]\n",
    "df['City'] = df['Purchase Address'].apply(city)\n",
    "print(set(df['City']))\n",
    "df.head()"
   ]
  },
  {
   "cell_type": "markdown",
   "metadata": {},
   "source": [
    "### 2.4 Add \"Sales\" column"
   ]
  },
  {
   "cell_type": "code",
   "execution_count": 10,
   "metadata": {},
   "outputs": [
    {
     "name": "stdout",
     "output_type": "stream",
     "text": [
      "object\n",
      "object\n"
     ]
    }
   ],
   "source": [
    "print(df['Price Each'].dtypes)\n",
    "print(df['Quantity Ordered'].dtypes)\n",
    "# Đúng vậy nó k phải dạng số, => chuyển sang dạng số"
   ]
  },
  {
   "cell_type": "code",
   "execution_count": 11,
   "metadata": {},
   "outputs": [
    {
     "name": "stdout",
     "output_type": "stream",
     "text": [
      "float64\n",
      "int64\n"
     ]
    }
   ],
   "source": [
    "# Convert 'str' to 'int'\n",
    "df['Quantity Ordered'] = pd.to_numeric(df['Quantity Ordered'])\n",
    "df['Price Each'] = pd.to_numeric(df['Price Each'])\n",
    "print(df['Price Each'].dtypes)\n",
    "print(df['Quantity Ordered'].dtypes)"
   ]
  },
  {
   "cell_type": "code",
   "execution_count": 12,
   "metadata": {},
   "outputs": [
    {
     "data": {
      "text/html": [
       "<div>\n",
       "<style scoped>\n",
       "    .dataframe tbody tr th:only-of-type {\n",
       "        vertical-align: middle;\n",
       "    }\n",
       "\n",
       "    .dataframe tbody tr th {\n",
       "        vertical-align: top;\n",
       "    }\n",
       "\n",
       "    .dataframe thead th {\n",
       "        text-align: right;\n",
       "    }\n",
       "</style>\n",
       "<table border=\"1\" class=\"dataframe\">\n",
       "  <thead>\n",
       "    <tr style=\"text-align: right;\">\n",
       "      <th></th>\n",
       "      <th>Order ID</th>\n",
       "      <th>Product</th>\n",
       "      <th>Quantity Ordered</th>\n",
       "      <th>Price Each</th>\n",
       "      <th>Order Date</th>\n",
       "      <th>Purchase Address</th>\n",
       "      <th>Month</th>\n",
       "      <th>City</th>\n",
       "      <th>Sales</th>\n",
       "    </tr>\n",
       "  </thead>\n",
       "  <tbody>\n",
       "    <tr>\n",
       "      <th>0</th>\n",
       "      <td>141234</td>\n",
       "      <td>iPhone</td>\n",
       "      <td>1</td>\n",
       "      <td>700.00</td>\n",
       "      <td>01/22/19 21:25</td>\n",
       "      <td>944 Walnut St, Boston, MA 02215</td>\n",
       "      <td>01</td>\n",
       "      <td>Boston</td>\n",
       "      <td>700.00</td>\n",
       "    </tr>\n",
       "    <tr>\n",
       "      <th>1</th>\n",
       "      <td>141235</td>\n",
       "      <td>Lightning Charging Cable</td>\n",
       "      <td>1</td>\n",
       "      <td>14.95</td>\n",
       "      <td>01/28/19 14:15</td>\n",
       "      <td>185 Maple St, Portland, OR 97035</td>\n",
       "      <td>01</td>\n",
       "      <td>Portland</td>\n",
       "      <td>14.95</td>\n",
       "    </tr>\n",
       "    <tr>\n",
       "      <th>2</th>\n",
       "      <td>141236</td>\n",
       "      <td>Wired Headphones</td>\n",
       "      <td>2</td>\n",
       "      <td>11.99</td>\n",
       "      <td>01/17/19 13:33</td>\n",
       "      <td>538 Adams St, San Francisco, CA 94016</td>\n",
       "      <td>01</td>\n",
       "      <td>San Francisco</td>\n",
       "      <td>23.98</td>\n",
       "    </tr>\n",
       "    <tr>\n",
       "      <th>3</th>\n",
       "      <td>141237</td>\n",
       "      <td>27in FHD Monitor</td>\n",
       "      <td>1</td>\n",
       "      <td>149.99</td>\n",
       "      <td>01/05/19 20:33</td>\n",
       "      <td>738 10th St, Los Angeles, CA 90001</td>\n",
       "      <td>01</td>\n",
       "      <td>Los Angeles</td>\n",
       "      <td>149.99</td>\n",
       "    </tr>\n",
       "    <tr>\n",
       "      <th>4</th>\n",
       "      <td>141238</td>\n",
       "      <td>Wired Headphones</td>\n",
       "      <td>1</td>\n",
       "      <td>11.99</td>\n",
       "      <td>01/25/19 11:59</td>\n",
       "      <td>387 10th St, Austin, TX 73301</td>\n",
       "      <td>01</td>\n",
       "      <td>Austin</td>\n",
       "      <td>11.99</td>\n",
       "    </tr>\n",
       "  </tbody>\n",
       "</table>\n",
       "</div>"
      ],
      "text/plain": [
       "  Order ID                   Product  Quantity Ordered  Price Each  \\\n",
       "0   141234                    iPhone                 1      700.00   \n",
       "1   141235  Lightning Charging Cable                 1       14.95   \n",
       "2   141236          Wired Headphones                 2       11.99   \n",
       "3   141237          27in FHD Monitor                 1      149.99   \n",
       "4   141238          Wired Headphones                 1       11.99   \n",
       "\n",
       "       Order Date                       Purchase Address Month  \\\n",
       "0  01/22/19 21:25        944 Walnut St, Boston, MA 02215    01   \n",
       "1  01/28/19 14:15       185 Maple St, Portland, OR 97035    01   \n",
       "2  01/17/19 13:33  538 Adams St, San Francisco, CA 94016    01   \n",
       "3  01/05/19 20:33     738 10th St, Los Angeles, CA 90001    01   \n",
       "4  01/25/19 11:59          387 10th St, Austin, TX 73301    01   \n",
       "\n",
       "             City   Sales  \n",
       "0          Boston  700.00  \n",
       "1        Portland   14.95  \n",
       "2   San Francisco   23.98  \n",
       "3     Los Angeles  149.99  \n",
       "4          Austin   11.99  "
      ]
     },
     "execution_count": 12,
     "metadata": {},
     "output_type": "execute_result"
    }
   ],
   "source": [
    "df['Sales'] = df['Quantity Ordered'] * df['Price Each']\n",
    "df.head()"
   ]
  },
  {
   "cell_type": "code",
   "execution_count": 13,
   "metadata": {},
   "outputs": [
    {
     "data": {
      "text/html": [
       "<div>\n",
       "<style scoped>\n",
       "    .dataframe tbody tr th:only-of-type {\n",
       "        vertical-align: middle;\n",
       "    }\n",
       "\n",
       "    .dataframe tbody tr th {\n",
       "        vertical-align: top;\n",
       "    }\n",
       "\n",
       "    .dataframe thead th {\n",
       "        text-align: right;\n",
       "    }\n",
       "</style>\n",
       "<table border=\"1\" class=\"dataframe\">\n",
       "  <thead>\n",
       "    <tr style=\"text-align: right;\">\n",
       "      <th></th>\n",
       "      <th>Order ID</th>\n",
       "      <th>Product</th>\n",
       "      <th>Quantity Ordered</th>\n",
       "      <th>Price Each</th>\n",
       "      <th>Sales</th>\n",
       "      <th>Order Date</th>\n",
       "      <th>Purchase Address</th>\n",
       "      <th>Month</th>\n",
       "      <th>City</th>\n",
       "    </tr>\n",
       "  </thead>\n",
       "  <tbody>\n",
       "    <tr>\n",
       "      <th>0</th>\n",
       "      <td>141234</td>\n",
       "      <td>iPhone</td>\n",
       "      <td>1</td>\n",
       "      <td>700.00</td>\n",
       "      <td>700.00</td>\n",
       "      <td>01/22/19 21:25</td>\n",
       "      <td>944 Walnut St, Boston, MA 02215</td>\n",
       "      <td>01</td>\n",
       "      <td>Boston</td>\n",
       "    </tr>\n",
       "    <tr>\n",
       "      <th>1</th>\n",
       "      <td>141235</td>\n",
       "      <td>Lightning Charging Cable</td>\n",
       "      <td>1</td>\n",
       "      <td>14.95</td>\n",
       "      <td>14.95</td>\n",
       "      <td>01/28/19 14:15</td>\n",
       "      <td>185 Maple St, Portland, OR 97035</td>\n",
       "      <td>01</td>\n",
       "      <td>Portland</td>\n",
       "    </tr>\n",
       "    <tr>\n",
       "      <th>2</th>\n",
       "      <td>141236</td>\n",
       "      <td>Wired Headphones</td>\n",
       "      <td>2</td>\n",
       "      <td>11.99</td>\n",
       "      <td>23.98</td>\n",
       "      <td>01/17/19 13:33</td>\n",
       "      <td>538 Adams St, San Francisco, CA 94016</td>\n",
       "      <td>01</td>\n",
       "      <td>San Francisco</td>\n",
       "    </tr>\n",
       "    <tr>\n",
       "      <th>3</th>\n",
       "      <td>141237</td>\n",
       "      <td>27in FHD Monitor</td>\n",
       "      <td>1</td>\n",
       "      <td>149.99</td>\n",
       "      <td>149.99</td>\n",
       "      <td>01/05/19 20:33</td>\n",
       "      <td>738 10th St, Los Angeles, CA 90001</td>\n",
       "      <td>01</td>\n",
       "      <td>Los Angeles</td>\n",
       "    </tr>\n",
       "    <tr>\n",
       "      <th>4</th>\n",
       "      <td>141238</td>\n",
       "      <td>Wired Headphones</td>\n",
       "      <td>1</td>\n",
       "      <td>11.99</td>\n",
       "      <td>11.99</td>\n",
       "      <td>01/25/19 11:59</td>\n",
       "      <td>387 10th St, Austin, TX 73301</td>\n",
       "      <td>01</td>\n",
       "      <td>Austin</td>\n",
       "    </tr>\n",
       "  </tbody>\n",
       "</table>\n",
       "</div>"
      ],
      "text/plain": [
       "  Order ID                   Product  Quantity Ordered  Price Each   Sales  \\\n",
       "0   141234                    iPhone                 1      700.00  700.00   \n",
       "1   141235  Lightning Charging Cable                 1       14.95   14.95   \n",
       "2   141236          Wired Headphones                 2       11.99   23.98   \n",
       "3   141237          27in FHD Monitor                 1      149.99  149.99   \n",
       "4   141238          Wired Headphones                 1       11.99   11.99   \n",
       "\n",
       "       Order Date                       Purchase Address Month            City  \n",
       "0  01/22/19 21:25        944 Walnut St, Boston, MA 02215    01          Boston  \n",
       "1  01/28/19 14:15       185 Maple St, Portland, OR 97035    01        Portland  \n",
       "2  01/17/19 13:33  538 Adams St, San Francisco, CA 94016    01   San Francisco  \n",
       "3  01/05/19 20:33     738 10th St, Los Angeles, CA 90001    01     Los Angeles  \n",
       "4  01/25/19 11:59          387 10th St, Austin, TX 73301    01          Austin  "
      ]
     },
     "execution_count": 13,
     "metadata": {},
     "output_type": "execute_result"
    }
   ],
   "source": [
    "# Chuyển vị trí cột 'Sales' sang vị trí khác\n",
    "moving_column = df.pop('Sales')\n",
    "df.insert(4, 'Sales', moving_column)\n",
    "df.head()"
   ]
  },
  {
   "cell_type": "markdown",
   "metadata": {},
   "source": [
    "# 3. Reporting"
   ]
  },
  {
   "cell_type": "markdown",
   "metadata": {},
   "source": [
    "Questions:\n",
    "1. what was the best month for sales?\n",
    "   How much was earned that month?\n",
    "2. What city has the best sales?\n",
    "3. What time should we display ads to maximize the likelihood of customer's buying product?\n",
    "4. What products are the most often sold together?\n",
    "5. What product sold the most?\n",
    "   Why do you think it sold the most?"
   ]
  },
  {
   "cell_type": "markdown",
   "metadata": {},
   "source": [
    "### 3.1 What was the best month for sales ? How much was earned that month ?"
   ]
  },
  {
   "cell_type": "code",
   "execution_count": 14,
   "metadata": {},
   "outputs": [
    {
     "name": "stdout",
     "output_type": "stream",
     "text": [
      "Month\n",
      "01    1822256.73\n",
      "02    2202022.42\n",
      "03    2807100.38\n",
      "04    3390670.24\n",
      "05    3152606.75\n",
      "06    2577802.26\n",
      "07    2647775.76\n",
      "08    2244467.88\n",
      "09    2097560.13\n",
      "10    3736726.88\n",
      "11    3199603.20\n",
      "12    4613443.34\n",
      "Name: Sales, dtype: float64\n",
      "Best Sales: 4613443.34\n"
     ]
    }
   ],
   "source": [
    "sales_value_month = df.groupby('Month').sum()['Sales']\n",
    "print(sales_value_month)\n",
    "print(\"Best Sales: \"+ str(sales_value_month.max()))"
   ]
  },
  {
   "cell_type": "code",
   "execution_count": 15,
   "metadata": {},
   "outputs": [
    {
     "data": {
      "image/png": "[encoded data removed]",
      "text/plain": [
       "<Figure size 640x480 with 1 Axes>"
      ]
     },
     "metadata": {},
     "output_type": "display_data"
    }
   ],
   "source": [
    "months = range(1, 13)\n",
    "plt.bar(x = months, height = sales_value_month)\n",
    "plt.xticks(months)\n",
    "plt.xlabel(\"Months\")\n",
    "plt.ylabel(\"Sales in USD\")\n",
    "plt.show()"
   ]
  },
  {
   "cell_type": "markdown",
   "metadata": {},
   "source": [
    "### 3.2 What city has the best sales?"
   ]
  },
  {
   "cell_type": "code",
   "execution_count": 16,
   "metadata": {},
   "outputs": [
    {
     "name": "stdout",
     "output_type": "stream",
     "text": [
      "City\n",
      " Atlanta          2795498.58\n",
      " Austin           1819581.75\n",
      " Boston           3661642.01\n",
      " Dallas           2767975.40\n",
      " Los Angeles      5452570.80\n",
      " New York City    4664317.43\n",
      " Portland         2320490.61\n",
      " San Francisco    8262203.91\n",
      " Seattle          2747755.48\n",
      "Name: Sales, dtype: float64\n",
      "8262203.91\n",
      "{' Austin', ' Boston', ' Seattle', ' Atlanta', ' Los Angeles', ' Portland', ' New York City', ' Dallas', ' San Francisco'}\n"
     ]
    }
   ],
   "source": [
    "sales_value_city = df.groupby('City').sum()['Sales']\n",
    "print(sales_value_city)\n",
    "print(sales_value_city.max())\n",
    "print(set(df['City']))"
   ]
  },
  {
   "cell_type": "code",
   "execution_count": 17,
   "metadata": {},
   "outputs": [
    {
     "name": "stdout",
     "output_type": "stream",
     "text": [
      "[' Boston' ' Portland' ' San Francisco' ' Los Angeles' ' Austin'\n",
      " ' Atlanta' ' Seattle' ' New York City' ' Dallas']\n"
     ]
    }
   ],
   "source": [
    "cities = df['City'].unique()\n",
    "print(cities)\n",
    "# Để ý rõ sẽ thấy thứ tự lấy ra values trong City khác với thứ tự trong phần Sales City k??\n",
    "# Đó chính là lý do dẫn đến sự sai kết quả khi mà nhìn bằng mắt thấy \"San Francisco\" best\n",
    "# Nhưng kết quả biểu đồ thì lại là \"New York City\"\n",
    "# Trường hợp theo tháng là đặc biệt do nó cả ở 2 loại đều sắp xếp lần lượt từ 1-> 12"
   ]
  },
  {
   "cell_type": "code",
   "execution_count": 18,
   "metadata": {},
   "outputs": [
    {
     "data": {
      "image/png": "[encoded data removed]",
      "text/plain": [
       "<Figure size 640x480 with 1 Axes>"
      ]
     },
     "metadata": {},
     "output_type": "display_data"
    }
   ],
   "source": [
    "cities = df['City'].unique()\n",
    "plt.bar(x = cities, height = sales_value_city)\n",
    "plt.xticks(cities, rotation = 90)# chỉnh city theo 90 độ để k bị lồng chữ lên nhau\n",
    "plt.xlabel(\"Cities\")\n",
    "plt.ylabel(\"Sales in USD\")\n",
    "plt.show()"
   ]
  },
  {
   "cell_type": "markdown",
   "metadata": {},
   "source": [
    "Giải thích cho dòng code : 'cities = [city for city, sales in sales_value_city.items()]'\\\n",
    "Ví dụ sau:\n",
    "\n",
    "sales_value_city = {\n",
    "    'New York': 25000,\n",
    "    'Los Angeles': 19500,\n",
    "    'San Francisco': 30000,\n",
    "    'Houston': 15000\n",
    "}\n",
    "cities = [city for city, sales in sales_value_city.items()]\n",
    "\n",
    "Khi bạn thực thi đoạn mã này, đây là cách nó hoạt động:\n",
    "+ sales_value_city.items() sẽ trả về một iterator của các cặp (tuples) gồm key và value: ('New York', 25000), ('Los Angeles', 19500), ....\n",
    "+ Với mỗi tuple, for city, sales in ... sẽ gán 'New York' vào biến city và 25000 vào biến sales, sau đó tiếp tục với 'Los Angeles', 19500, và cứ thế tiếp tục.\n",
    "+ [city for city, sales in ...] sẽ tạo ra một list mới chỉ chứa giá trị từ biến city mà bỏ qua sales.\n",
    "\n",
    "Kết quả của list comprehension sẽ là:\n",
    "['New York', 'Los Angeles', 'San Francisco', 'Houston']"
   ]
  },
  {
   "cell_type": "code",
   "execution_count": 19,
   "metadata": {},
   "outputs": [
    {
     "data": {
      "image/png": "[encoded data removed]",
      "text/plain": [
       "<Figure size 640x480 with 1 Axes>"
      ]
     },
     "metadata": {},
     "output_type": "display_data"
    }
   ],
   "source": [
    "cities = [city for city, sales in sales_value_city.items()] # tạo ra list lưu city\n",
    "plt.bar(x=cities, height=sales_value_city)\n",
    "plt.xticks(cities, rotation = 45)\n",
    "plt.xlabel(\"Cities\")\n",
    "plt.ylabel(\"Sales in USD\")\n",
    "plt.show()"
   ]
  },
  {
   "cell_type": "markdown",
   "metadata": {},
   "source": [
    "### 3.3 What time should we display ads to maximize the likehood of customer's buying product?"
   ]
  },
  {
   "cell_type": "markdown",
   "metadata": {},
   "source": [
    "Nên hiển thị quảng cáo vào thời điểm nào để tối đa hóa khả năng khách hàng mua sản phẩm?\n",
    "Tức là trả lời cho câu hỏi thời gian nào trong ngày thường có lượng mua nhiều nhất (tính theo tiền / đơn)"
   ]
  },
  {
   "cell_type": "markdown",
   "metadata": {},
   "source": [
    "### Tính theo tiền"
   ]
  },
  {
   "cell_type": "code",
   "execution_count": 20,
   "metadata": {},
   "outputs": [
    {
     "name": "stdout",
     "output_type": "stream",
     "text": [
      "object\n"
     ]
    },
    {
     "data": {
      "text/html": [
       "<div>\n",
       "<style scoped>\n",
       "    .dataframe tbody tr th:only-of-type {\n",
       "        vertical-align: middle;\n",
       "    }\n",
       "\n",
       "    .dataframe tbody tr th {\n",
       "        vertical-align: top;\n",
       "    }\n",
       "\n",
       "    .dataframe thead th {\n",
       "        text-align: right;\n",
       "    }\n",
       "</style>\n",
       "<table border=\"1\" class=\"dataframe\">\n",
       "  <thead>\n",
       "    <tr style=\"text-align: right;\">\n",
       "      <th></th>\n",
       "      <th>Order ID</th>\n",
       "      <th>Product</th>\n",
       "      <th>Quantity Ordered</th>\n",
       "      <th>Price Each</th>\n",
       "      <th>Sales</th>\n",
       "      <th>Order Date</th>\n",
       "      <th>Purchase Address</th>\n",
       "      <th>Month</th>\n",
       "      <th>City</th>\n",
       "      <th>Hours</th>\n",
       "    </tr>\n",
       "  </thead>\n",
       "  <tbody>\n",
       "    <tr>\n",
       "      <th>0</th>\n",
       "      <td>141234</td>\n",
       "      <td>iPhone</td>\n",
       "      <td>1</td>\n",
       "      <td>700.00</td>\n",
       "      <td>700.00</td>\n",
       "      <td>01/22/19 21:25</td>\n",
       "      <td>944 Walnut St, Boston, MA 02215</td>\n",
       "      <td>01</td>\n",
       "      <td>Boston</td>\n",
       "      <td>21</td>\n",
       "    </tr>\n",
       "    <tr>\n",
       "      <th>1</th>\n",
       "      <td>141235</td>\n",
       "      <td>Lightning Charging Cable</td>\n",
       "      <td>1</td>\n",
       "      <td>14.95</td>\n",
       "      <td>14.95</td>\n",
       "      <td>01/28/19 14:15</td>\n",
       "      <td>185 Maple St, Portland, OR 97035</td>\n",
       "      <td>01</td>\n",
       "      <td>Portland</td>\n",
       "      <td>14</td>\n",
       "    </tr>\n",
       "    <tr>\n",
       "      <th>2</th>\n",
       "      <td>141236</td>\n",
       "      <td>Wired Headphones</td>\n",
       "      <td>2</td>\n",
       "      <td>11.99</td>\n",
       "      <td>23.98</td>\n",
       "      <td>01/17/19 13:33</td>\n",
       "      <td>538 Adams St, San Francisco, CA 94016</td>\n",
       "      <td>01</td>\n",
       "      <td>San Francisco</td>\n",
       "      <td>13</td>\n",
       "    </tr>\n",
       "    <tr>\n",
       "      <th>3</th>\n",
       "      <td>141237</td>\n",
       "      <td>27in FHD Monitor</td>\n",
       "      <td>1</td>\n",
       "      <td>149.99</td>\n",
       "      <td>149.99</td>\n",
       "      <td>01/05/19 20:33</td>\n",
       "      <td>738 10th St, Los Angeles, CA 90001</td>\n",
       "      <td>01</td>\n",
       "      <td>Los Angeles</td>\n",
       "      <td>20</td>\n",
       "    </tr>\n",
       "    <tr>\n",
       "      <th>4</th>\n",
       "      <td>141238</td>\n",
       "      <td>Wired Headphones</td>\n",
       "      <td>1</td>\n",
       "      <td>11.99</td>\n",
       "      <td>11.99</td>\n",
       "      <td>01/25/19 11:59</td>\n",
       "      <td>387 10th St, Austin, TX 73301</td>\n",
       "      <td>01</td>\n",
       "      <td>Austin</td>\n",
       "      <td>11</td>\n",
       "    </tr>\n",
       "  </tbody>\n",
       "</table>\n",
       "</div>"
      ],
      "text/plain": [
       "  Order ID                   Product  Quantity Ordered  Price Each   Sales  \\\n",
       "0   141234                    iPhone                 1      700.00  700.00   \n",
       "1   141235  Lightning Charging Cable                 1       14.95   14.95   \n",
       "2   141236          Wired Headphones                 2       11.99   23.98   \n",
       "3   141237          27in FHD Monitor                 1      149.99  149.99   \n",
       "4   141238          Wired Headphones                 1       11.99   11.99   \n",
       "\n",
       "       Order Date                       Purchase Address Month  \\\n",
       "0  01/22/19 21:25        944 Walnut St, Boston, MA 02215    01   \n",
       "1  01/28/19 14:15       185 Maple St, Portland, OR 97035    01   \n",
       "2  01/17/19 13:33  538 Adams St, San Francisco, CA 94016    01   \n",
       "3  01/05/19 20:33     738 10th St, Los Angeles, CA 90001    01   \n",
       "4  01/25/19 11:59          387 10th St, Austin, TX 73301    01   \n",
       "\n",
       "             City Hours  \n",
       "0          Boston    21  \n",
       "1        Portland    14  \n",
       "2   San Francisco    13  \n",
       "3     Los Angeles    20  \n",
       "4          Austin    11  "
      ]
     },
     "execution_count": 20,
     "metadata": {},
     "output_type": "execute_result"
    }
   ],
   "source": [
    "df[\"Hours\"] = df['Order Date'].str[9:11]\n",
    "print(df[\"Hours\"].dtypes)\n",
    "df.head()"
   ]
  },
  {
   "cell_type": "code",
   "execution_count": 21,
   "metadata": {},
   "outputs": [
    {
     "name": "stdout",
     "output_type": "stream",
     "text": [
      "{'02', '07', '01', '15', '13', '19', '23', '06', '17', '09', '05', '03', '22', '14', '21', '20', '00', '04', '12', '16', '10', '11', '18', '08'}\n"
     ]
    }
   ],
   "source": [
    "print(set(df['Hours']))"
   ]
  },
  {
   "cell_type": "code",
   "execution_count": 22,
   "metadata": {},
   "outputs": [
    {
     "name": "stdout",
     "output_type": "stream",
     "text": [
      "Hours\n",
      "00     713721.27\n",
      "01     460866.88\n",
      "02     234851.44\n",
      "03     145757.89\n",
      "04     162661.01\n",
      "05     230679.82\n",
      "06     448113.00\n",
      "07     744854.12\n",
      "08    1192348.97\n",
      "09    1639030.58\n",
      "10    1944286.77\n",
      "11    2300610.24\n",
      "12    2316821.34\n",
      "13    2155389.80\n",
      "14    2083672.73\n",
      "15    1941549.60\n",
      "16    1904601.31\n",
      "17    2129361.61\n",
      "18    2219348.30\n",
      "19    2412938.54\n",
      "20    2281716.24\n",
      "21    2042000.86\n",
      "22    1607549.21\n",
      "23    1179304.44\n",
      "Name: Sales, dtype: float64\n",
      "2412938.54\n",
      "{'02', '07', '01', '15', '13', '19', '23', '06', '17', '09', '05', '03', '22', '14', '21', '20', '00', '04', '12', '16', '10', '11', '18', '08'}\n"
     ]
    }
   ],
   "source": [
    "sales_value_hour = df.groupby('Hours').sum()['Sales']\n",
    "print(sales_value_hour)\n",
    "print(sales_value_hour.max())\n",
    "print(set(df['Hours']))"
   ]
  },
  {
   "cell_type": "code",
   "execution_count": 23,
   "metadata": {},
   "outputs": [
    {
     "data": {
      "image/png": "[encoded data removed]",
      "text/plain": [
       "<Figure size 640x480 with 1 Axes>"
      ]
     },
     "metadata": {},
     "output_type": "display_data"
    }
   ],
   "source": [
    "hours = [hour for hour, sales in sales_value_hour.items()] \n",
    "plt.plot(hours, sales_value_hour)\n",
    "plt.grid()\n",
    "plt.xticks(hours, rotation=90, size=8)\n",
    "plt.xlabel('Hours')\n",
    "plt.ylabel('Sales in USD')\n",
    "plt.show()"
   ]
  },
  {
   "cell_type": "markdown",
   "metadata": {},
   "source": [
    "### Tính theo đơn"
   ]
  },
  {
   "cell_type": "code",
   "execution_count": 24,
   "metadata": {},
   "outputs": [
    {
     "name": "stdout",
     "output_type": "stream",
     "text": [
      "int64\n"
     ]
    }
   ],
   "source": [
    "print(df['Quantity Ordered'].dtypes)"
   ]
  },
  {
   "cell_type": "code",
   "execution_count": 25,
   "metadata": {},
   "outputs": [
    {
     "name": "stdout",
     "output_type": "stream",
     "text": [
      "Hours\n",
      "00     4428\n",
      "01     2619\n",
      "02     1398\n",
      "03      928\n",
      "04      937\n",
      "05     1493\n",
      "06     2810\n",
      "07     4556\n",
      "08     7002\n",
      "09     9816\n",
      "10    12308\n",
      "11    14005\n",
      "12    14202\n",
      "13    13685\n",
      "14    12362\n",
      "15    11391\n",
      "16    11662\n",
      "17    12229\n",
      "18    13802\n",
      "19    14470\n",
      "20    13768\n",
      "21    12244\n",
      "22     9899\n",
      "23     7065\n",
      "Name: Quantity Ordered, dtype: int64\n",
      "14470\n",
      "{'02', '07', '01', '15', '13', '19', '23', '06', '17', '09', '05', '03', '22', '14', '21', '20', '00', '04', '12', '16', '10', '11', '18', '08'}\n"
     ]
    }
   ],
   "source": [
    "sales_value_hour = df.groupby('Hours').sum()['Quantity Ordered']\n",
    "print(sales_value_hour)\n",
    "print(sales_value_hour.max())\n",
    "print(set(df['Hours']))"
   ]
  },
  {
   "cell_type": "code",
   "execution_count": 26,
   "metadata": {},
   "outputs": [
    {
     "data": {
      "image/png": "[encoded data removed]",
      "text/plain": [
       "<Figure size 640x480 with 1 Axes>"
      ]
     },
     "metadata": {},
     "output_type": "display_data"
    }
   ],
   "source": [
    "hours = [hour for hour, orders in sales_value_hour.items()] \n",
    "plt.plot(hours, sales_value_hour)\n",
    "plt.grid()\n",
    "plt.xticks(hours, rotation=90, size=8)\n",
    "plt.xlabel('Hours')\n",
    "plt.ylabel('Orders')\n",
    "plt.show()"
   ]
  },
  {
   "cell_type": "markdown",
   "metadata": {},
   "source": [
    "### 3.4 What products are the most often sold together?"
   ]
  },
  {
   "cell_type": "code",
   "execution_count": 54,
   "metadata": {},
   "outputs": [
    {
     "data": {
      "text/html": [
       "<div>\n",
       "<style scoped>\n",
       "    .dataframe tbody tr th:only-of-type {\n",
       "        vertical-align: middle;\n",
       "    }\n",
       "\n",
       "    .dataframe tbody tr th {\n",
       "        vertical-align: top;\n",
       "    }\n",
       "\n",
       "    .dataframe thead th {\n",
       "        text-align: right;\n",
       "    }\n",
       "</style>\n",
       "<table border=\"1\" class=\"dataframe\">\n",
       "  <thead>\n",
       "    <tr style=\"text-align: right;\">\n",
       "      <th></th>\n",
       "      <th>Order ID</th>\n",
       "      <th>Product</th>\n",
       "      <th>Quantity Ordered</th>\n",
       "      <th>Price Each</th>\n",
       "      <th>Sales</th>\n",
       "      <th>Order Date</th>\n",
       "      <th>Purchase Address</th>\n",
       "      <th>Month</th>\n",
       "      <th>City</th>\n",
       "      <th>Hours</th>\n",
       "    </tr>\n",
       "  </thead>\n",
       "  <tbody>\n",
       "    <tr>\n",
       "      <th>41</th>\n",
       "      <td>141275</td>\n",
       "      <td>USB-C Charging Cable</td>\n",
       "      <td>1</td>\n",
       "      <td>11.95</td>\n",
       "      <td>11.95</td>\n",
       "      <td>01/07/19 16:06</td>\n",
       "      <td>610 Walnut St, Austin, TX 73301</td>\n",
       "      <td>01</td>\n",
       "      <td>Austin</td>\n",
       "      <td>16</td>\n",
       "    </tr>\n",
       "    <tr>\n",
       "      <th>42</th>\n",
       "      <td>141275</td>\n",
       "      <td>Wired Headphones</td>\n",
       "      <td>1</td>\n",
       "      <td>11.99</td>\n",
       "      <td>11.99</td>\n",
       "      <td>01/07/19 16:06</td>\n",
       "      <td>610 Walnut St, Austin, TX 73301</td>\n",
       "      <td>01</td>\n",
       "      <td>Austin</td>\n",
       "      <td>16</td>\n",
       "    </tr>\n",
       "    <tr>\n",
       "      <th>57</th>\n",
       "      <td>141290</td>\n",
       "      <td>Apple Airpods Headphones</td>\n",
       "      <td>1</td>\n",
       "      <td>150.00</td>\n",
       "      <td>150.00</td>\n",
       "      <td>01/02/19 08:25</td>\n",
       "      <td>4 1st St, Los Angeles, CA 90001</td>\n",
       "      <td>01</td>\n",
       "      <td>Los Angeles</td>\n",
       "      <td>08</td>\n",
       "    </tr>\n",
       "    <tr>\n",
       "      <th>58</th>\n",
       "      <td>141290</td>\n",
       "      <td>AA Batteries (4-pack)</td>\n",
       "      <td>3</td>\n",
       "      <td>3.84</td>\n",
       "      <td>11.52</td>\n",
       "      <td>01/02/19 08:25</td>\n",
       "      <td>4 1st St, Los Angeles, CA 90001</td>\n",
       "      <td>01</td>\n",
       "      <td>Los Angeles</td>\n",
       "      <td>08</td>\n",
       "    </tr>\n",
       "    <tr>\n",
       "      <th>133</th>\n",
       "      <td>141365</td>\n",
       "      <td>Vareebadd Phone</td>\n",
       "      <td>1</td>\n",
       "      <td>400.00</td>\n",
       "      <td>400.00</td>\n",
       "      <td>01/10/19 11:19</td>\n",
       "      <td>20 Dogwood St, New York City, NY 10001</td>\n",
       "      <td>01</td>\n",
       "      <td>New York City</td>\n",
       "      <td>11</td>\n",
       "    </tr>\n",
       "  </tbody>\n",
       "</table>\n",
       "</div>"
      ],
      "text/plain": [
       "    Order ID                   Product  Quantity Ordered  Price Each   Sales  \\\n",
       "41    141275      USB-C Charging Cable                 1       11.95   11.95   \n",
       "42    141275          Wired Headphones                 1       11.99   11.99   \n",
       "57    141290  Apple Airpods Headphones                 1      150.00  150.00   \n",
       "58    141290     AA Batteries (4-pack)                 3        3.84   11.52   \n",
       "133   141365           Vareebadd Phone                 1      400.00  400.00   \n",
       "\n",
       "         Order Date                        Purchase Address Month  \\\n",
       "41   01/07/19 16:06         610 Walnut St, Austin, TX 73301    01   \n",
       "42   01/07/19 16:06         610 Walnut St, Austin, TX 73301    01   \n",
       "57   01/02/19 08:25         4 1st St, Los Angeles, CA 90001    01   \n",
       "58   01/02/19 08:25         4 1st St, Los Angeles, CA 90001    01   \n",
       "133  01/10/19 11:19  20 Dogwood St, New York City, NY 10001    01   \n",
       "\n",
       "               City Hours  \n",
       "41           Austin    16  \n",
       "42           Austin    16  \n",
       "57      Los Angeles    08  \n",
       "58      Los Angeles    08  \n",
       "133   New York City    11  "
      ]
     },
     "execution_count": 54,
     "metadata": {},
     "output_type": "execute_result"
    }
   ],
   "source": [
    "# Tạo một DataFrame mới df_dup từ DataFrame gốc df bằng cách chọn những dòng mà 'Order ID' xuất hiện nhiều hơn một lần. \n",
    "# keep=False đảm bảo rằng tất cả các bản ghi trùng lặp đều được giữ lại, \n",
    "# điều này hữu ích để tìm các sản phẩm được bán chung trong cùng một đơn hàng.\n",
    "df_dup = df[df['Order ID'].duplicated(keep=False)]\n",
    "df_dup.head()"
   ]
  },
  {
   "cell_type": "code",
   "execution_count": 57,
   "metadata": {},
   "outputs": [
    {
     "data": {
      "text/plain": [
       "Order ID\n",
       "141275              USB-C Charging Cable,Wired Headphones\n",
       "141290     Apple Airpods Headphones,AA Batteries (4-pack)\n",
       "141365                   Vareebadd Phone,Wired Headphones\n",
       "141384                  Google Phone,USB-C Charging Cable\n",
       "141450            Google Phone,Bose SoundSport Headphones\n",
       "                               ...                       \n",
       "319536                Macbook Pro Laptop,Wired Headphones\n",
       "319556                      Google Phone,Wired Headphones\n",
       "319584                            iPhone,Wired Headphones\n",
       "319596                    iPhone,Lightning Charging Cable\n",
       "319631    34in Ultrawide Monitor,Lightning Charging Cable\n",
       "Name: Product, Length: 7136, dtype: object"
      ]
     },
     "execution_count": 57,
     "metadata": {},
     "output_type": "execute_result"
    }
   ],
   "source": [
    "dup_result = df_dup.groupby('Order ID')['Product'].apply(','.join)\n",
    "dup_result"
   ]
  },
  {
   "cell_type": "code",
   "execution_count": 60,
   "metadata": {},
   "outputs": [
    {
     "name": "stderr",
     "output_type": "stream",
     "text": [
      "C:\\Users\\Admin\\AppData\\Local\\Temp\\ipykernel_1108\\2537976060.py:2: SettingWithCopyWarning: \n",
      "A value is trying to be set on a copy of a slice from a DataFrame.\n",
      "Try using .loc[row_indexer,col_indexer] = value instead\n",
      "\n",
      "See the caveats in the documentation: https://pandas.pydata.org/pandas-docs/stable/user_guide/indexing.html#returning-a-view-versus-a-copy\n",
      "  df_dup['All Products'] = df_dup.groupby('Order ID')['Product'].transform(groupProduct)\n"
     ]
    },
    {
     "data": {
      "text/html": [
       "<div>\n",
       "<style scoped>\n",
       "    .dataframe tbody tr th:only-of-type {\n",
       "        vertical-align: middle;\n",
       "    }\n",
       "\n",
       "    .dataframe tbody tr th {\n",
       "        vertical-align: top;\n",
       "    }\n",
       "\n",
       "    .dataframe thead th {\n",
       "        text-align: right;\n",
       "    }\n",
       "</style>\n",
       "<table border=\"1\" class=\"dataframe\">\n",
       "  <thead>\n",
       "    <tr style=\"text-align: right;\">\n",
       "      <th></th>\n",
       "      <th>Order ID</th>\n",
       "      <th>Product</th>\n",
       "      <th>Quantity Ordered</th>\n",
       "      <th>Price Each</th>\n",
       "      <th>Sales</th>\n",
       "      <th>Order Date</th>\n",
       "      <th>Purchase Address</th>\n",
       "      <th>Month</th>\n",
       "      <th>City</th>\n",
       "      <th>Hours</th>\n",
       "      <th>All Products</th>\n",
       "    </tr>\n",
       "  </thead>\n",
       "  <tbody>\n",
       "    <tr>\n",
       "      <th>41</th>\n",
       "      <td>141275</td>\n",
       "      <td>USB-C Charging Cable</td>\n",
       "      <td>1</td>\n",
       "      <td>11.95</td>\n",
       "      <td>11.95</td>\n",
       "      <td>01/07/19 16:06</td>\n",
       "      <td>610 Walnut St, Austin, TX 73301</td>\n",
       "      <td>01</td>\n",
       "      <td>Austin</td>\n",
       "      <td>16</td>\n",
       "      <td>USB-C Charging Cable,Wired Headphones</td>\n",
       "    </tr>\n",
       "    <tr>\n",
       "      <th>42</th>\n",
       "      <td>141275</td>\n",
       "      <td>Wired Headphones</td>\n",
       "      <td>1</td>\n",
       "      <td>11.99</td>\n",
       "      <td>11.99</td>\n",
       "      <td>01/07/19 16:06</td>\n",
       "      <td>610 Walnut St, Austin, TX 73301</td>\n",
       "      <td>01</td>\n",
       "      <td>Austin</td>\n",
       "      <td>16</td>\n",
       "      <td>USB-C Charging Cable,Wired Headphones</td>\n",
       "    </tr>\n",
       "    <tr>\n",
       "      <th>57</th>\n",
       "      <td>141290</td>\n",
       "      <td>Apple Airpods Headphones</td>\n",
       "      <td>1</td>\n",
       "      <td>150.00</td>\n",
       "      <td>150.00</td>\n",
       "      <td>01/02/19 08:25</td>\n",
       "      <td>4 1st St, Los Angeles, CA 90001</td>\n",
       "      <td>01</td>\n",
       "      <td>Los Angeles</td>\n",
       "      <td>08</td>\n",
       "      <td>Apple Airpods Headphones,AA Batteries (4-pack)</td>\n",
       "    </tr>\n",
       "    <tr>\n",
       "      <th>58</th>\n",
       "      <td>141290</td>\n",
       "      <td>AA Batteries (4-pack)</td>\n",
       "      <td>3</td>\n",
       "      <td>3.84</td>\n",
       "      <td>11.52</td>\n",
       "      <td>01/02/19 08:25</td>\n",
       "      <td>4 1st St, Los Angeles, CA 90001</td>\n",
       "      <td>01</td>\n",
       "      <td>Los Angeles</td>\n",
       "      <td>08</td>\n",
       "      <td>Apple Airpods Headphones,AA Batteries (4-pack)</td>\n",
       "    </tr>\n",
       "    <tr>\n",
       "      <th>133</th>\n",
       "      <td>141365</td>\n",
       "      <td>Vareebadd Phone</td>\n",
       "      <td>1</td>\n",
       "      <td>400.00</td>\n",
       "      <td>400.00</td>\n",
       "      <td>01/10/19 11:19</td>\n",
       "      <td>20 Dogwood St, New York City, NY 10001</td>\n",
       "      <td>01</td>\n",
       "      <td>New York City</td>\n",
       "      <td>11</td>\n",
       "      <td>Vareebadd Phone,Wired Headphones</td>\n",
       "    </tr>\n",
       "  </tbody>\n",
       "</table>\n",
       "</div>"
      ],
      "text/plain": [
       "    Order ID                   Product  Quantity Ordered  Price Each   Sales  \\\n",
       "41    141275      USB-C Charging Cable                 1       11.95   11.95   \n",
       "42    141275          Wired Headphones                 1       11.99   11.99   \n",
       "57    141290  Apple Airpods Headphones                 1      150.00  150.00   \n",
       "58    141290     AA Batteries (4-pack)                 3        3.84   11.52   \n",
       "133   141365           Vareebadd Phone                 1      400.00  400.00   \n",
       "\n",
       "         Order Date                        Purchase Address Month  \\\n",
       "41   01/07/19 16:06         610 Walnut St, Austin, TX 73301    01   \n",
       "42   01/07/19 16:06         610 Walnut St, Austin, TX 73301    01   \n",
       "57   01/02/19 08:25         4 1st St, Los Angeles, CA 90001    01   \n",
       "58   01/02/19 08:25         4 1st St, Los Angeles, CA 90001    01   \n",
       "133  01/10/19 11:19  20 Dogwood St, New York City, NY 10001    01   \n",
       "\n",
       "               City Hours                                    All Products  \n",
       "41           Austin    16           USB-C Charging Cable,Wired Headphones  \n",
       "42           Austin    16           USB-C Charging Cable,Wired Headphones  \n",
       "57      Los Angeles    08  Apple Airpods Headphones,AA Batteries (4-pack)  \n",
       "58      Los Angeles    08  Apple Airpods Headphones,AA Batteries (4-pack)  \n",
       "133   New York City    11                Vareebadd Phone,Wired Headphones  "
      ]
     },
     "execution_count": 60,
     "metadata": {},
     "output_type": "execute_result"
    }
   ],
   "source": [
    "groupProduct = lambda x: ','.join(x)\n",
    "df_dup['All Products'] = df_dup.groupby('Order ID')['Product'].transform(groupProduct)\n",
    "df_dup.head()"
   ]
  },
  {
   "cell_type": "code",
   "execution_count": 63,
   "metadata": {},
   "outputs": [
    {
     "data": {
      "text/html": [
       "<div>\n",
       "<style scoped>\n",
       "    .dataframe tbody tr th:only-of-type {\n",
       "        vertical-align: middle;\n",
       "    }\n",
       "\n",
       "    .dataframe tbody tr th {\n",
       "        vertical-align: top;\n",
       "    }\n",
       "\n",
       "    .dataframe thead th {\n",
       "        text-align: right;\n",
       "    }\n",
       "</style>\n",
       "<table border=\"1\" class=\"dataframe\">\n",
       "  <thead>\n",
       "    <tr style=\"text-align: right;\">\n",
       "      <th></th>\n",
       "      <th>Order ID</th>\n",
       "      <th>All Products</th>\n",
       "    </tr>\n",
       "  </thead>\n",
       "  <tbody>\n",
       "    <tr>\n",
       "      <th>41</th>\n",
       "      <td>141275</td>\n",
       "      <td>USB-C Charging Cable,Wired Headphones</td>\n",
       "    </tr>\n",
       "    <tr>\n",
       "      <th>42</th>\n",
       "      <td>141275</td>\n",
       "      <td>USB-C Charging Cable,Wired Headphones</td>\n",
       "    </tr>\n",
       "    <tr>\n",
       "      <th>57</th>\n",
       "      <td>141290</td>\n",
       "      <td>Apple Airpods Headphones,AA Batteries (4-pack)</td>\n",
       "    </tr>\n",
       "    <tr>\n",
       "      <th>58</th>\n",
       "      <td>141290</td>\n",
       "      <td>Apple Airpods Headphones,AA Batteries (4-pack)</td>\n",
       "    </tr>\n",
       "    <tr>\n",
       "      <th>133</th>\n",
       "      <td>141365</td>\n",
       "      <td>Vareebadd Phone,Wired Headphones</td>\n",
       "    </tr>\n",
       "  </tbody>\n",
       "</table>\n",
       "</div>"
      ],
      "text/plain": [
       "    Order ID                                    All Products\n",
       "41    141275           USB-C Charging Cable,Wired Headphones\n",
       "42    141275           USB-C Charging Cable,Wired Headphones\n",
       "57    141290  Apple Airpods Headphones,AA Batteries (4-pack)\n",
       "58    141290  Apple Airpods Headphones,AA Batteries (4-pack)\n",
       "133   141365                Vareebadd Phone,Wired Headphones"
      ]
     },
     "execution_count": 63,
     "metadata": {},
     "output_type": "execute_result"
    }
   ],
   "source": [
    "df_dup = df_dup[['Order ID', 'All Products']]\n",
    "df_dup.head()"
   ]
  },
  {
   "cell_type": "code",
   "execution_count": 64,
   "metadata": {},
   "outputs": [
    {
     "data": {
      "text/html": [
       "<div>\n",
       "<style scoped>\n",
       "    .dataframe tbody tr th:only-of-type {\n",
       "        vertical-align: middle;\n",
       "    }\n",
       "\n",
       "    .dataframe tbody tr th {\n",
       "        vertical-align: top;\n",
       "    }\n",
       "\n",
       "    .dataframe thead th {\n",
       "        text-align: right;\n",
       "    }\n",
       "</style>\n",
       "<table border=\"1\" class=\"dataframe\">\n",
       "  <thead>\n",
       "    <tr style=\"text-align: right;\">\n",
       "      <th></th>\n",
       "      <th>Order ID</th>\n",
       "      <th>All Products</th>\n",
       "    </tr>\n",
       "  </thead>\n",
       "  <tbody>\n",
       "    <tr>\n",
       "      <th>41</th>\n",
       "      <td>141275</td>\n",
       "      <td>USB-C Charging Cable,Wired Headphones</td>\n",
       "    </tr>\n",
       "    <tr>\n",
       "      <th>57</th>\n",
       "      <td>141290</td>\n",
       "      <td>Apple Airpods Headphones,AA Batteries (4-pack)</td>\n",
       "    </tr>\n",
       "    <tr>\n",
       "      <th>133</th>\n",
       "      <td>141365</td>\n",
       "      <td>Vareebadd Phone,Wired Headphones</td>\n",
       "    </tr>\n",
       "    <tr>\n",
       "      <th>153</th>\n",
       "      <td>141384</td>\n",
       "      <td>Google Phone,USB-C Charging Cable</td>\n",
       "    </tr>\n",
       "    <tr>\n",
       "      <th>220</th>\n",
       "      <td>141450</td>\n",
       "      <td>Google Phone,Bose SoundSport Headphones</td>\n",
       "    </tr>\n",
       "    <tr>\n",
       "      <th>...</th>\n",
       "      <td>...</td>\n",
       "      <td>...</td>\n",
       "    </tr>\n",
       "    <tr>\n",
       "      <th>11617</th>\n",
       "      <td>259296</td>\n",
       "      <td>Apple Airpods Headphones,Apple Airpods Headphones</td>\n",
       "    </tr>\n",
       "    <tr>\n",
       "      <th>11619</th>\n",
       "      <td>259297</td>\n",
       "      <td>iPhone,Lightning Charging Cable,Lightning Char...</td>\n",
       "    </tr>\n",
       "    <tr>\n",
       "      <th>11627</th>\n",
       "      <td>259303</td>\n",
       "      <td>34in Ultrawide Monitor,AA Batteries (4-pack)</td>\n",
       "    </tr>\n",
       "    <tr>\n",
       "      <th>11639</th>\n",
       "      <td>259314</td>\n",
       "      <td>Wired Headphones,AAA Batteries (4-pack)</td>\n",
       "    </tr>\n",
       "    <tr>\n",
       "      <th>11677</th>\n",
       "      <td>259350</td>\n",
       "      <td>Google Phone,USB-C Charging Cable</td>\n",
       "    </tr>\n",
       "  </tbody>\n",
       "</table>\n",
       "<p>7136 rows × 2 columns</p>\n",
       "</div>"
      ],
      "text/plain": [
       "      Order ID                                       All Products\n",
       "41      141275              USB-C Charging Cable,Wired Headphones\n",
       "57      141290     Apple Airpods Headphones,AA Batteries (4-pack)\n",
       "133     141365                   Vareebadd Phone,Wired Headphones\n",
       "153     141384                  Google Phone,USB-C Charging Cable\n",
       "220     141450            Google Phone,Bose SoundSport Headphones\n",
       "...        ...                                                ...\n",
       "11617   259296  Apple Airpods Headphones,Apple Airpods Headphones\n",
       "11619   259297  iPhone,Lightning Charging Cable,Lightning Char...\n",
       "11627   259303       34in Ultrawide Monitor,AA Batteries (4-pack)\n",
       "11639   259314            Wired Headphones,AAA Batteries (4-pack)\n",
       "11677   259350                  Google Phone,USB-C Charging Cable\n",
       "\n",
       "[7136 rows x 2 columns]"
      ]
     },
     "execution_count": 64,
     "metadata": {},
     "output_type": "execute_result"
    }
   ],
   "source": [
    "df_dup.drop_duplicates() # loại bỏ những dòng trùng nhau"
   ]
  },
  {
   "cell_type": "code",
   "execution_count": 67,
   "metadata": {},
   "outputs": [
    {
     "data": {
      "text/plain": [
       "All Products\n",
       "iPhone,Lightning Charging Cable                       1764\n",
       "Google Phone,USB-C Charging Cable                     1712\n",
       "iPhone,Wired Headphones                                722\n",
       "Vareebadd Phone,USB-C Charging Cable                   624\n",
       "Google Phone,Wired Headphones                          606\n",
       "iPhone,Apple Airpods Headphones                        572\n",
       "Google Phone,Bose SoundSport Headphones                322\n",
       "Google Phone,USB-C Charging Cable,Wired Headphones     231\n",
       "Vareebadd Phone,Wired Headphones                       208\n",
       "iPhone,Lightning Charging Cable,Wired Headphones       168\n",
       "Name: count, dtype: int64"
      ]
     },
     "execution_count": 67,
     "metadata": {},
     "output_type": "execute_result"
    }
   ],
   "source": [
    "# đếm xem có bao nhiêu 'All products' được bắn cùng nhau\n",
    "df_dup['All Products'].value_counts().head(10)"
   ]
  },
  {
   "cell_type": "markdown",
   "metadata": {},
   "source": [
    "### 3.5 What product sold the most? Why do you think it sold the most?"
   ]
  },
  {
   "cell_type": "markdown",
   "metadata": {},
   "source": [
    "Tại sao sản phẩm đó lại bán chạy nhất.Dựa vào thông tin mk có thì mk sẽ phân tích về giá của nó, có thể giá của sản phẩm đó là rẻ nhất trong số đó thì sao"
   ]
  },
  {
   "cell_type": "code",
   "execution_count": 28,
   "metadata": {},
   "outputs": [
    {
     "name": "stdout",
     "output_type": "stream",
     "text": [
      "Product\n",
      "20in Monitor                   4129\n",
      "27in 4K Gaming Monitor         6244\n",
      "27in FHD Monitor               7550\n",
      "34in Ultrawide Monitor         6199\n",
      "AA Batteries (4-pack)         27635\n",
      "AAA Batteries (4-pack)        31017\n",
      "Apple Airpods Headphones      15661\n",
      "Bose SoundSport Headphones    13457\n",
      "Flatscreen TV                  4819\n",
      "Google Phone                   5532\n",
      "LG Dryer                        646\n",
      "LG Washing Machine              666\n",
      "Lightning Charging Cable      23217\n",
      "Macbook Pro Laptop             4728\n",
      "ThinkPad Laptop                4130\n",
      "USB-C Charging Cable          23975\n",
      "Vareebadd Phone                2068\n",
      "Wired Headphones              20557\n",
      "iPhone                         6849\n",
      "Name: Quantity Ordered, dtype: int64\n",
      "{'USB-C Charging Cable', 'AAA Batteries (4-pack)', 'Wired Headphones', 'Flatscreen TV', 'Google Phone', 'LG Washing Machine', 'AA Batteries (4-pack)', '27in FHD Monitor', 'LG Dryer', 'Vareebadd Phone', 'Lightning Charging Cable', 'Bose SoundSport Headphones', '27in 4K Gaming Monitor', 'iPhone', 'Macbook Pro Laptop', '34in Ultrawide Monitor', 'Apple Airpods Headphones', '20in Monitor', 'ThinkPad Laptop'}\n"
     ]
    }
   ],
   "source": [
    "all_products = df.groupby('Product').sum()['Quantity Ordered']\n",
    "print(all_products)\n",
    "all_products.max()\n",
    "print(set(df['Product']))"
   ]
  },
  {
   "cell_type": "code",
   "execution_count": 29,
   "metadata": {},
   "outputs": [
    {
     "data": {
      "image/png": "[encoded data removed]",
      "text/plain": [
       "<Figure size 640x480 with 1 Axes>"
      ]
     },
     "metadata": {},
     "output_type": "display_data"
    }
   ],
   "source": [
    "products = [product for product, order in all_products.items()] # tạo ra list lưu city\n",
    "plt.bar(x=products, height=all_products)\n",
    "plt.xticks(products, rotation = 90)\n",
    "plt.xlabel(\"Products\")\n",
    "plt.ylabel(\"Quantity Ordered\")\n",
    "plt.show()"
   ]
  },
  {
   "cell_type": "code",
   "execution_count": 36,
   "metadata": {},
   "outputs": [
    {
     "name": "stdout",
     "output_type": "stream",
     "text": [
      "float64\n",
      "{2.99, 99.99, 1700.0, 389.99, 3.84, 999.99, 11.99, 11.95, 300.0, 14.95, 109.99, 400.0, 149.99, 150.0, 600.0, 379.99, 700.0}\n"
     ]
    }
   ],
   "source": [
    "print(df['Price Each'].dtypes)\n",
    "print(set(df['Price Each']))"
   ]
  },
  {
   "cell_type": "code",
   "execution_count": 39,
   "metadata": {},
   "outputs": [
    {
     "name": "stdout",
     "output_type": "stream",
     "text": [
      "2.99\n"
     ]
    },
    {
     "data": {
      "text/plain": [
       "Product\n",
       "20in Monitor                   109.99\n",
       "27in 4K Gaming Monitor         389.99\n",
       "27in FHD Monitor               149.99\n",
       "34in Ultrawide Monitor         379.99\n",
       "AA Batteries (4-pack)            3.84\n",
       "AAA Batteries (4-pack)           2.99\n",
       "Apple Airpods Headphones       150.00\n",
       "Bose SoundSport Headphones      99.99\n",
       "Flatscreen TV                  300.00\n",
       "Google Phone                   600.00\n",
       "LG Dryer                       600.00\n",
       "LG Washing Machine             600.00\n",
       "Lightning Charging Cable        14.95\n",
       "Macbook Pro Laptop            1700.00\n",
       "ThinkPad Laptop                999.99\n",
       "USB-C Charging Cable            11.95\n",
       "Vareebadd Phone                400.00\n",
       "Wired Headphones                11.99\n",
       "iPhone                         700.00\n",
       "Name: Price Each, dtype: float64"
      ]
     },
     "execution_count": 39,
     "metadata": {},
     "output_type": "execute_result"
    }
   ],
   "source": [
    "# Group by 'Product' and calculate the mean only for 'Price Each'\n",
    "prices = df.groupby('Product')['Price Each'].mean() # tính giá trị trung bình\n",
    "print(prices.min())\n",
    "prices"
   ]
  },
  {
   "cell_type": "code",
   "execution_count": 44,
   "metadata": {},
   "outputs": [
    {
     "data": {
      "image/png": "[encoded data removed]",
      "text/plain": [
       "<Figure size 640x480 with 1 Axes>"
      ]
     },
     "metadata": {},
     "output_type": "display_data"
    }
   ],
   "source": [
    "prices_lst = [product_name for product_name, price in prices.items()] \n",
    "plt.bar(x=prices_lst, height=prices)\n",
    "plt.xticks(prices_lst, rotation = 90)\n",
    "plt.xlabel(\"Products\")\n",
    "plt.ylabel(\"Price\")\n",
    "plt.show()"
   ]
  },
  {
   "cell_type": "code",
   "execution_count": 45,
   "metadata": {},
   "outputs": [
    {
     "name": "stderr",
     "output_type": "stream",
     "text": [
      "C:\\Users\\Admin\\AppData\\Local\\Temp\\ipykernel_1108\\2468907872.py:11: UserWarning: set_ticklabels() should only be used with a fixed number of ticks, i.e. after set_ticks() or using a FixedLocator.\n",
      "  ax1.set_xticklabels(products, rotation=90, size=8)\n"
     ]
    },
    {
     "data": {
      "image/png": "[encoded data removed]",
      "text/plain": [
       "<Figure size 640x480 with 2 Axes>"
      ]
     },
     "metadata": {},
     "output_type": "display_data"
    }
   ],
   "source": [
    "# Thể hiện 2 biểu đồ trong 1 bảng\n",
    "x = products\n",
    "y1 = all_products\n",
    "y2 = prices\n",
    "\n",
    "fig, ax1 = plt.subplots()\n",
    "\n",
    "ax2 = ax1.twinx()\n",
    "ax1.bar(x, y1, color='g')\n",
    "ax2.plot(x, y2, 'b-')\n",
    "ax1.set_xticklabels(products, rotation=90, size=8)\n",
    "ax1.set_xlabel('Products')\n",
    "ax1.set_ylabel('Quantity Ordered', color='g')\n",
    "ax2.set_ylabel('Price Each', color='b')\n",
    "\n",
    "plt.show()"
   ]
  }
 ],
 "metadata": {
  "kernelspec": {
   "display_name": "Python 3",
   "language": "python",
   "name": "python3"
  },
  "language_info": {
   "codemirror_mode": {
    "name": "ipython",
    "version": 3
   },
   "file_extension": ".py",
   "mimetype": "text/x-python",
   "name": "python",
   "nbconvert_exporter": "python",
   "pygments_lexer": "ipython3",
   "version": "3.11.4"
  }
 },
 "nbformat": 4,
 "nbformat_minor": 2
}
